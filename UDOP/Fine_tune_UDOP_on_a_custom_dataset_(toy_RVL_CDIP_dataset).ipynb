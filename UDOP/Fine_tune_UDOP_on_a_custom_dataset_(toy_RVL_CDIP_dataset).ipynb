{
  "nbformat": 4,
  "nbformat_minor": 0,
  "metadata": {
    "colab": {
      "provenance": [],
      "machine_shape": "hm",
      "gpuType": "V100",
      "authorship_tag": "ABX9TyNyCBpjd8ugXcIZZlMBpAu+",
      "include_colab_link": true
    },
    "kernelspec": {
      "name": "python3",
      "display_name": "Python 3"
    },
    "language_info": {
      "name": "python"
    },
    "accelerator": "GPU",
    "widgets": {
      "application/vnd.jupyter.widget-state+json": {
        "4eaec3b4412e4f10809a4c17e209d750": {
          "model_module": "@jupyter-widgets/controls",
          "model_name": "HBoxModel",
          "model_module_version": "1.5.0",
          "state": {
            "_dom_classes": [],
            "_model_module": "@jupyter-widgets/controls",
            "_model_module_version": "1.5.0",
            "_model_name": "HBoxModel",
            "_view_count": null,
            "_view_module": "@jupyter-widgets/controls",
            "_view_module_version": "1.5.0",
            "_view_name": "HBoxView",
            "box_style": "",
            "children": [
              "IPY_MODEL_7ab4864df0464097ba050161b0819b99",
              "IPY_MODEL_25abef59703e4fee86f275489245859d",
              "IPY_MODEL_bb1d1ade78c74a1c8355e5535cbfca74"
            ],
            "layout": "IPY_MODEL_f68af81f0c3241c7a0b48f08faaea1b9"
          }
        },
        "7ab4864df0464097ba050161b0819b99": {
          "model_module": "@jupyter-widgets/controls",
          "model_name": "HTMLModel",
          "model_module_version": "1.5.0",
          "state": {
            "_dom_classes": [],
            "_model_module": "@jupyter-widgets/controls",
            "_model_module_version": "1.5.0",
            "_model_name": "HTMLModel",
            "_view_count": null,
            "_view_module": "@jupyter-widgets/controls",
            "_view_module_version": "1.5.0",
            "_view_name": "HTMLView",
            "description": "",
            "description_tooltip": null,
            "layout": "IPY_MODEL_1ebf978e54bd47bc94274548070af72d",
            "placeholder": "​",
            "style": "IPY_MODEL_1d22cbd925e54ed4b795d6f643fbdd53",
            "value": "100%"
          }
        },
        "25abef59703e4fee86f275489245859d": {
          "model_module": "@jupyter-widgets/controls",
          "model_name": "FloatProgressModel",
          "model_module_version": "1.5.0",
          "state": {
            "_dom_classes": [],
            "_model_module": "@jupyter-widgets/controls",
            "_model_module_version": "1.5.0",
            "_model_name": "FloatProgressModel",
            "_view_count": null,
            "_view_module": "@jupyter-widgets/controls",
            "_view_module_version": "1.5.0",
            "_view_name": "ProgressView",
            "bar_style": "success",
            "description": "",
            "description_tooltip": null,
            "layout": "IPY_MODEL_127953bcb92246c3ac0d8d4627498b42",
            "max": 160,
            "min": 0,
            "orientation": "horizontal",
            "style": "IPY_MODEL_9a9a93ea0ed7424cb66474a46075effa",
            "value": 160
          }
        },
        "bb1d1ade78c74a1c8355e5535cbfca74": {
          "model_module": "@jupyter-widgets/controls",
          "model_name": "HTMLModel",
          "model_module_version": "1.5.0",
          "state": {
            "_dom_classes": [],
            "_model_module": "@jupyter-widgets/controls",
            "_model_module_version": "1.5.0",
            "_model_name": "HTMLModel",
            "_view_count": null,
            "_view_module": "@jupyter-widgets/controls",
            "_view_module_version": "1.5.0",
            "_view_name": "HTMLView",
            "description": "",
            "description_tooltip": null,
            "layout": "IPY_MODEL_85cadecb85f64a9f9507e24de2c26c84",
            "placeholder": "​",
            "style": "IPY_MODEL_471ea3412e1649e49f7eeb514aefd6eb",
            "value": " 160/160 [03:32&lt;00:00,  1.25s/it]"
          }
        },
        "f68af81f0c3241c7a0b48f08faaea1b9": {
          "model_module": "@jupyter-widgets/base",
          "model_name": "LayoutModel",
          "model_module_version": "1.2.0",
          "state": {
            "_model_module": "@jupyter-widgets/base",
            "_model_module_version": "1.2.0",
            "_model_name": "LayoutModel",
            "_view_count": null,
            "_view_module": "@jupyter-widgets/base",
            "_view_module_version": "1.2.0",
            "_view_name": "LayoutView",
            "align_content": null,
            "align_items": null,
            "align_self": null,
            "border": null,
            "bottom": null,
            "display": null,
            "flex": null,
            "flex_flow": null,
            "grid_area": null,
            "grid_auto_columns": null,
            "grid_auto_flow": null,
            "grid_auto_rows": null,
            "grid_column": null,
            "grid_gap": null,
            "grid_row": null,
            "grid_template_areas": null,
            "grid_template_columns": null,
            "grid_template_rows": null,
            "height": null,
            "justify_content": null,
            "justify_items": null,
            "left": null,
            "margin": null,
            "max_height": null,
            "max_width": null,
            "min_height": null,
            "min_width": null,
            "object_fit": null,
            "object_position": null,
            "order": null,
            "overflow": null,
            "overflow_x": null,
            "overflow_y": null,
            "padding": null,
            "right": null,
            "top": null,
            "visibility": null,
            "width": null
          }
        },
        "1ebf978e54bd47bc94274548070af72d": {
          "model_module": "@jupyter-widgets/base",
          "model_name": "LayoutModel",
          "model_module_version": "1.2.0",
          "state": {
            "_model_module": "@jupyter-widgets/base",
            "_model_module_version": "1.2.0",
            "_model_name": "LayoutModel",
            "_view_count": null,
            "_view_module": "@jupyter-widgets/base",
            "_view_module_version": "1.2.0",
            "_view_name": "LayoutView",
            "align_content": null,
            "align_items": null,
            "align_self": null,
            "border": null,
            "bottom": null,
            "display": null,
            "flex": null,
            "flex_flow": null,
            "grid_area": null,
            "grid_auto_columns": null,
            "grid_auto_flow": null,
            "grid_auto_rows": null,
            "grid_column": null,
            "grid_gap": null,
            "grid_row": null,
            "grid_template_areas": null,
            "grid_template_columns": null,
            "grid_template_rows": null,
            "height": null,
            "justify_content": null,
            "justify_items": null,
            "left": null,
            "margin": null,
            "max_height": null,
            "max_width": null,
            "min_height": null,
            "min_width": null,
            "object_fit": null,
            "object_position": null,
            "order": null,
            "overflow": null,
            "overflow_x": null,
            "overflow_y": null,
            "padding": null,
            "right": null,
            "top": null,
            "visibility": null,
            "width": null
          }
        },
        "1d22cbd925e54ed4b795d6f643fbdd53": {
          "model_module": "@jupyter-widgets/controls",
          "model_name": "DescriptionStyleModel",
          "model_module_version": "1.5.0",
          "state": {
            "_model_module": "@jupyter-widgets/controls",
            "_model_module_version": "1.5.0",
            "_model_name": "DescriptionStyleModel",
            "_view_count": null,
            "_view_module": "@jupyter-widgets/base",
            "_view_module_version": "1.2.0",
            "_view_name": "StyleView",
            "description_width": ""
          }
        },
        "127953bcb92246c3ac0d8d4627498b42": {
          "model_module": "@jupyter-widgets/base",
          "model_name": "LayoutModel",
          "model_module_version": "1.2.0",
          "state": {
            "_model_module": "@jupyter-widgets/base",
            "_model_module_version": "1.2.0",
            "_model_name": "LayoutModel",
            "_view_count": null,
            "_view_module": "@jupyter-widgets/base",
            "_view_module_version": "1.2.0",
            "_view_name": "LayoutView",
            "align_content": null,
            "align_items": null,
            "align_self": null,
            "border": null,
            "bottom": null,
            "display": null,
            "flex": null,
            "flex_flow": null,
            "grid_area": null,
            "grid_auto_columns": null,
            "grid_auto_flow": null,
            "grid_auto_rows": null,
            "grid_column": null,
            "grid_gap": null,
            "grid_row": null,
            "grid_template_areas": null,
            "grid_template_columns": null,
            "grid_template_rows": null,
            "height": null,
            "justify_content": null,
            "justify_items": null,
            "left": null,
            "margin": null,
            "max_height": null,
            "max_width": null,
            "min_height": null,
            "min_width": null,
            "object_fit": null,
            "object_position": null,
            "order": null,
            "overflow": null,
            "overflow_x": null,
            "overflow_y": null,
            "padding": null,
            "right": null,
            "top": null,
            "visibility": null,
            "width": null
          }
        },
        "9a9a93ea0ed7424cb66474a46075effa": {
          "model_module": "@jupyter-widgets/controls",
          "model_name": "ProgressStyleModel",
          "model_module_version": "1.5.0",
          "state": {
            "_model_module": "@jupyter-widgets/controls",
            "_model_module_version": "1.5.0",
            "_model_name": "ProgressStyleModel",
            "_view_count": null,
            "_view_module": "@jupyter-widgets/base",
            "_view_module_version": "1.2.0",
            "_view_name": "StyleView",
            "bar_color": null,
            "description_width": ""
          }
        },
        "85cadecb85f64a9f9507e24de2c26c84": {
          "model_module": "@jupyter-widgets/base",
          "model_name": "LayoutModel",
          "model_module_version": "1.2.0",
          "state": {
            "_model_module": "@jupyter-widgets/base",
            "_model_module_version": "1.2.0",
            "_model_name": "LayoutModel",
            "_view_count": null,
            "_view_module": "@jupyter-widgets/base",
            "_view_module_version": "1.2.0",
            "_view_name": "LayoutView",
            "align_content": null,
            "align_items": null,
            "align_self": null,
            "border": null,
            "bottom": null,
            "display": null,
            "flex": null,
            "flex_flow": null,
            "grid_area": null,
            "grid_auto_columns": null,
            "grid_auto_flow": null,
            "grid_auto_rows": null,
            "grid_column": null,
            "grid_gap": null,
            "grid_row": null,
            "grid_template_areas": null,
            "grid_template_columns": null,
            "grid_template_rows": null,
            "height": null,
            "justify_content": null,
            "justify_items": null,
            "left": null,
            "margin": null,
            "max_height": null,
            "max_width": null,
            "min_height": null,
            "min_width": null,
            "object_fit": null,
            "object_position": null,
            "order": null,
            "overflow": null,
            "overflow_x": null,
            "overflow_y": null,
            "padding": null,
            "right": null,
            "top": null,
            "visibility": null,
            "width": null
          }
        },
        "471ea3412e1649e49f7eeb514aefd6eb": {
          "model_module": "@jupyter-widgets/controls",
          "model_name": "DescriptionStyleModel",
          "model_module_version": "1.5.0",
          "state": {
            "_model_module": "@jupyter-widgets/controls",
            "_model_module_version": "1.5.0",
            "_model_name": "DescriptionStyleModel",
            "_view_count": null,
            "_view_module": "@jupyter-widgets/base",
            "_view_module_version": "1.2.0",
            "_view_name": "StyleView",
            "description_width": ""
          }
        }
      }
    }
  },
  "cells": [
    {
      "cell_type": "markdown",
      "metadata": {
        "id": "view-in-github",
        "colab_type": "text"
      },
      "source": [
        "<a href=\"https://colab.research.google.com/github/NielsRogge/Transformers-Tutorials/blob/master/UDOP/Fine_tune_UDOP_on_a_custom_dataset_(toy_RVL_CDIP_dataset).ipynb\" target=\"_parent\"><img src=\"https://colab.research.google.com/assets/colab-badge.svg\" alt=\"Open In Colab\"/></a>"
      ]
    },
    {
      "cell_type": "markdown",
      "source": [
        "# Fine-tune UDOP for document image classification\n",
        "\n",
        "In this tutorial, I'll showcase how one can fine-tune UDOP by Microsoft for document AI tasks such as classifying to which category a given document image belongs.\n",
        "\n",
        "UDOP is pretty similar to models like [Donut](https://huggingface.co/docs/transformers/en/model_doc/donut) and [Pix2Struct](https://huggingface.co/docs/transformers/model_doc/pix2struct) which take an image as input, and produce text as output using a vision-encoder, GPT-based text decoder architecture. However, unlike Donut and PixStruct, UDOP additionally leverages an OCR engine to help the model in producing the correct text.\n",
        "\n",
        "Said differently, you can view UDOP as a T5 model, but leveraging LayoutLMv3 as encoder combined with a T5 text decoder.\n",
        "\n",
        "## Set-up environment\n",
        "\n",
        "Let's start by installing the required libraries:\n",
        "\n",
        "* 🤗 Transformers for the UDOP model\n",
        "* 🤗 Dataset to load a toy dataset from the hub\n",
        "* SentencePiece for the tokenizer\n",
        "* Bitsandbytes for the memory-efficient 8-bit optimizer\n",
        "* Tesseract for the OCR engine."
      ],
      "metadata": {
        "id": "H8VI1ZR5r6Of"
      }
    },
    {
      "cell_type": "code",
      "execution_count": 1,
      "metadata": {
        "colab": {
          "base_uri": "https://localhost:8080/"
        },
        "id": "UxEscDRJr3ma",
        "outputId": "26546ef7-102e-4687-998e-c7a3c9c47034"
      },
      "outputs": [
        {
          "output_type": "stream",
          "name": "stdout",
          "text": [
            "Cloning into 'transformers'...\n",
            "remote: Enumerating objects: 234893, done.\u001b[K\n",
            "remote: Counting objects: 100% (75/75), done.\u001b[K\n",
            "remote: Compressing objects: 100% (30/30), done.\u001b[K\n",
            "remote: Total 234893 (delta 39), reused 61 (delta 39), pack-reused 234818\u001b[K\n",
            "Receiving objects: 100% (234893/234893), 225.24 MiB | 23.48 MiB/s, done.\n",
            "Resolving deltas: 100% (166476/166476), done.\n",
            "  Installing build dependencies ... \u001b[?25l\u001b[?25hdone\n",
            "  Getting requirements to build wheel ... \u001b[?25l\u001b[?25hdone\n",
            "  Preparing metadata (pyproject.toml) ... \u001b[?25l\u001b[?25hdone\n",
            "  Building wheel for transformers (pyproject.toml) ... \u001b[?25l\u001b[?25hdone\n"
          ]
        }
      ],
      "source": [
        "!pip install -q git+https://github.com/huggingface/transformers.git"
      ]
    },
    {
      "cell_type": "code",
      "source": [
        "!pip install -q datasets sentencepiece bitsandbytes"
      ],
      "metadata": {
        "id": "cdTE5SUNsOJB"
      },
      "execution_count": 2,
      "outputs": []
    },
    {
      "cell_type": "code",
      "source": [
        "!sudo apt install tesseract-ocr\n",
        "!pip install -q pytesseract"
      ],
      "metadata": {
        "colab": {
          "base_uri": "https://localhost:8080/"
        },
        "id": "__yMDnljuB4g",
        "outputId": "5b0e1978-7d1e-490e-ecde-cdddb6bda39e"
      },
      "execution_count": 3,
      "outputs": [
        {
          "output_type": "stream",
          "name": "stdout",
          "text": [
            "Reading package lists... Done\n",
            "Building dependency tree... Done\n",
            "Reading state information... Done\n",
            "tesseract-ocr is already the newest version (4.1.1-2.1build1).\n",
            "0 upgraded, 0 newly installed, 0 to remove and 35 not upgraded.\n"
          ]
        }
      ]
    },
    {
      "cell_type": "markdown",
      "source": [
        "## Load data\n",
        "\n",
        "Next, let's load a toy dataset from the 🤗, which I prepared. It's a subset of the [RVL-CDIP dataset](https://huggingface.co/datasets/aharley/rvl_cdip), which is a benchmark often used for document image classification.\n",
        "\n",
        "The docs for loading a custom dataset is [here](https://huggingface.co/docs/datasets/en/loading). You can optionally push it to the hub by calling `push_to_hub()` on your dataset, such that you can reload it using `load_dataset`."
      ],
      "metadata": {
        "id": "jEGjB5ogsPkJ"
      }
    },
    {
      "cell_type": "code",
      "source": [
        "from datasets import load_dataset\n",
        "\n",
        "dataset = load_dataset(\"nielsr/rvl_cdip_10_examples_per_class_donut\")"
      ],
      "metadata": {
        "id": "lT-Mn2_TsPCK"
      },
      "execution_count": 4,
      "outputs": []
    },
    {
      "cell_type": "markdown",
      "source": [
        "The dataset consists of a few document images with a corresponding label. We have both a training split and a test split."
      ],
      "metadata": {
        "id": "vQzWZFNPjagH"
      }
    },
    {
      "cell_type": "code",
      "source": [
        "dataset"
      ],
      "metadata": {
        "colab": {
          "base_uri": "https://localhost:8080/"
        },
        "id": "dA7iCALftFN1",
        "outputId": "36be8244-651c-4109-8d3b-6eebf9a9b780"
      },
      "execution_count": 5,
      "outputs": [
        {
          "output_type": "execute_result",
          "data": {
            "text/plain": [
              "DatasetDict({\n",
              "    train: Dataset({\n",
              "        features: ['image', 'label', 'ground_truth'],\n",
              "        num_rows: 160\n",
              "    })\n",
              "    test: Dataset({\n",
              "        features: ['image', 'label', 'ground_truth'],\n",
              "        num_rows: 160\n",
              "    })\n",
              "})"
            ]
          },
          "metadata": {},
          "execution_count": 5
        }
      ]
    },
    {
      "cell_type": "markdown",
      "source": [
        "Lets take a look at a random training example."
      ],
      "metadata": {
        "id": "XdSkCEr1jo2I"
      }
    },
    {
      "cell_type": "code",
      "source": [
        "example = dataset[\"train\"][5]\n",
        "image = example['image']\n",
        "# let's make the image a bit smaller when visualizing\n",
        "width, height = image.size\n",
        "display(image.resize((int(width*0.5), int(height*0.5))))"
      ],
      "metadata": {
        "colab": {
          "base_uri": "https://localhost:8080/",
          "height": 517
        },
        "id": "GmyroYiUtHg_",
        "outputId": "7e2af808-0873-446e-ef7a-8d649dd4de6d"
      },
      "execution_count": 6,
      "outputs": [
        {
          "output_type": "display_data",
          "data": {
            "text/plain": [
              "<PIL.Image.Image image mode=L size=377x500>"
            ],
            "image/png": "[encoded data removed]"
          },
          "metadata": {}
        }
      ]
    },
    {
      "cell_type": "markdown",
      "source": [
        "We can load the id2label mapping of the RVL-CDIP dataset from the hub:"
      ],
      "metadata": {
        "id": "PAGss-RJj3no"
      }
    },
    {
      "cell_type": "code",
      "source": [
        "from huggingface_hub import hf_hub_download\n",
        "import json\n",
        "\n",
        "repo_id = \"huggingface/label-files\"\n",
        "filename = \"rvlcdip-id2label.json\"\n",
        "id2label = json.load(open(hf_hub_download(repo_id, filename, repo_type=\"dataset\"), \"r\"))\n",
        "id2label = {int(k):v for k,v in id2label.items()}\n",
        "print(id2label)"
      ],
      "metadata": {
        "colab": {
          "base_uri": "https://localhost:8080/"
        },
        "id": "FbEnAc1fMvlK",
        "outputId": "7e01cb3d-4898-4135-cff0-1de98dc924ed"
      },
      "execution_count": 7,
      "outputs": [
        {
          "output_type": "stream",
          "name": "stdout",
          "text": [
            "{0: 'letter', 1: 'form', 2: 'email', 3: 'handwritten', 4: 'advertisement', 5: 'scientific report', 6: 'scientific publication', 7: 'specification', 8: 'file folder', 9: 'news article', 10: 'budget', 11: 'invoice', 12: 'presentation', 13: 'questionnaire', 14: 'resume', 15: 'memo'}\n"
          ]
        }
      ]
    },
    {
      "cell_type": "markdown",
      "source": [
        "In this case, the image corresponds to a \"letter\"."
      ],
      "metadata": {
        "id": "Ox0u7HJlj63X"
      }
    },
    {
      "cell_type": "code",
      "source": [
        "id2label[example[\"label\"]]"
      ],
      "metadata": {
        "colab": {
          "base_uri": "https://localhost:8080/",
          "height": 35
        },
        "id": "XwUYy8jfMkB1",
        "outputId": "9a187cc5-61d4-40f1-d252-0247ad6b0d04"
      },
      "execution_count": 8,
      "outputs": [
        {
          "output_type": "execute_result",
          "data": {
            "text/plain": [
              "'letter'"
            ],
            "application/vnd.google.colaboratory.intrinsic+json": {
              "type": "string"
            }
          },
          "metadata": {},
          "execution_count": 8
        }
      ]
    },
    {
      "cell_type": "markdown",
      "source": [
        "To prepare this pair of (image, label) for the model, we can leverage the `UdopProcessor` class.\n",
        "\n",
        "\n",
        "This class works very similar to LayoutLMv2/LayoutLMv3's processor: it prepares the inputs required by the model.\n",
        "\n",
        "Internally, it will:\n",
        "* use `LayoutLMv3ImageProcessor` to turn the image into `pixel_values` (by resizing, rescaling and normalizing the image), as well as to apply OCR on the image to get a list of words + corresponding coordinates. By default, Tesseract is used as OCR engine.\n",
        "- use `UdopTokenizer` to turn the words + coordinates into token-level `input_ids`, `attention_mask` and `bbox`.\n",
        "\n",
        "Note that one can also decide to use another OCR engine of choice. Refer to the docs for usage."
      ],
      "metadata": {
        "id": "5-QvK8sGkJPs"
      }
    },
    {
      "cell_type": "code",
      "source": [
        "from transformers import UdopProcessor\n",
        "\n",
        "processor = UdopProcessor.from_pretrained(\"microsoft/udop-large\")\n",
        "print(type(processor.image_processor))\n",
        "print(type(processor.tokenizer))"
      ],
      "metadata": {
        "colab": {
          "base_uri": "https://localhost:8080/"
        },
        "id": "B79kYxrhtQLa",
        "outputId": "34c4478a-8b82-48f6-db25-197b277496ef"
      },
      "execution_count": 9,
      "outputs": [
        {
          "output_type": "stream",
          "name": "stderr",
          "text": [
            "Special tokens have been added in the vocabulary, make sure the associated word embeddings are fine-tuned or trained.\n",
            "Special tokens have been added in the vocabulary, make sure the associated word embeddings are fine-tuned or trained.\n"
          ]
        },
        {
          "output_type": "stream",
          "name": "stdout",
          "text": [
            "<class 'transformers.models.layoutlmv3.image_processing_layoutlmv3.LayoutLMv3ImageProcessor'>\n",
            "<class 'transformers.models.udop.tokenization_udop_fast.UdopTokenizerFast'>\n"
          ]
        }
      ]
    },
    {
      "cell_type": "code",
      "source": [
        "encoding = processor(images=image.convert(\"RGB\"), return_tensors=\"pt\")\n",
        "for k,v in encoding.items():\n",
        "  print(k,v.shape)"
      ],
      "metadata": {
        "colab": {
          "base_uri": "https://localhost:8080/"
        },
        "id": "v1L0hR1Btz-i",
        "outputId": "a37e452f-4e34-4328-dc75-860201e26b50"
      },
      "execution_count": 10,
      "outputs": [
        {
          "output_type": "stream",
          "name": "stdout",
          "text": [
            "input_ids torch.Size([1, 393])\n",
            "attention_mask torch.Size([1, 393])\n",
            "bbox torch.Size([1, 393, 4])\n",
            "pixel_values torch.Size([1, 3, 224, 224])\n"
          ]
        }
      ]
    },
    {
      "cell_type": "code",
      "source": [
        "processor.batch_decode(encoding.input_ids)"
      ],
      "metadata": {
        "colab": {
          "base_uri": "https://localhost:8080/"
        },
        "id": "7MaOCKJMMQjs",
        "outputId": "52ce82f4-5097-4de9-febf-ffd4aa0f74cf"
      },
      "execution_count": 11,
      "outputs": [
        {
          "output_type": "execute_result",
          "data": {
            "text/plain": [
              "['RJR INTER-OFFICE MEMORANDUM June 18, 1986 Jo: Or. Bob Suber From: Or. Deboreh A. Lee Ms. Cindy Fulp Ames results on sample H8! fron Hazleton Biotechnologies, Inc. Subject: The following results were obtained for sample i181 (Firnova Powder 850.005): 0% S9 ACTIVATION strain TA98—stroin TAIO® strain 1835 strain 1837 strain 1538 rev/ng sample<unk> (rev/ng sample) (rev/mg sample) (rev/ng sample) (rev/ng sample) -350 (neg) 9.30 (neg) 118 (neg) 0887 (neg) negative 10% $9 ACTIVATION strain TAS strain TAI@® strain 1835 strain 1537 strain 1538 (reving sample) (rev/ng sample) (rev/ng sample) (rev/na sample) <unk>rev/na sample) +183 (neg) +692 (neg) 1.03 (neg) 1.05 (neg) -816 (neg) The dose range tested vas 0, 100, 500, 1000, 2500, S000, and 10000 ug in 50 ul. There was no significant increase in revertant number with an increase in dose level for sample HB! uith or without $3 activation for any of the 5 strains. Conc] us ion: Please feel free to discuss these results with our leb. xe: Dr. C.K. Lee Or. 6.7. Burger Dr. J.R. Hayes o e re &</s>']"
            ]
          },
          "metadata": {},
          "execution_count": 11
        }
      ]
    },
    {
      "cell_type": "markdown",
      "source": [
        "## Load model\n",
        "\n",
        "Next, let's load the UDOP model which has been pre-trained already using a language modeling objective."
      ],
      "metadata": {
        "id": "cmNqJlR_H3d2"
      }
    },
    {
      "cell_type": "code",
      "source": [
        "from transformers import UdopForConditionalGeneration\n",
        "\n",
        "model = UdopForConditionalGeneration.from_pretrained(\"microsoft/udop-large\")"
      ],
      "metadata": {
        "id": "CRjqbZ81w6HN"
      },
      "execution_count": 12,
      "outputs": []
    },
    {
      "cell_type": "markdown",
      "source": [
        "## Create PyTorch Dataset\n",
        "\n",
        "Next we create a regular PyTorch dataset. Each item of the dataset consists of the pixel_values, input_ids, attention_mask, bbox inputs as well as corresponding labels for the model."
      ],
      "metadata": {
        "id": "4RlEpW0msdg8"
      }
    },
    {
      "cell_type": "code",
      "source": [
        "from torch.utils.data import Dataset\n",
        "\n",
        "class CustomDataset(Dataset):\n",
        "  def __init__(self, dataset, processor):\n",
        "    self.dataset = dataset\n",
        "    self.processor = processor\n",
        "\n",
        "  def __len__(self):\n",
        "    return len(self.dataset)\n",
        "\n",
        "  def __getitem__(self, idx):\n",
        "    # get item\n",
        "    sample = self.dataset[idx]\n",
        "\n",
        "    # prepare inputs for the model\n",
        "    image = sample[\"image\"].convert(\"RGB\")\n",
        "    encoding = self.processor(images=image, truncation=True, padding=\"max_length\", return_tensors=\"pt\")\n",
        "\n",
        "    encoding = {k:v.squeeze() for k,v in encoding.items()}\n",
        "\n",
        "    # prepare targets\n",
        "    label = id2label[sample[\"label\"]]\n",
        "    target_sequence = f\"document image classification. {label}\"\n",
        "    encoding[\"labels\"] = self.processor(text_target=target_sequence,\n",
        "                                        padding=\"max_length\", max_length=10, truncation=True,\n",
        "                                        return_tensors=\"pt\").input_ids.squeeze()\n",
        "\n",
        "    return encoding"
      ],
      "metadata": {
        "id": "gQ62pUpHsdFB"
      },
      "execution_count": 13,
      "outputs": []
    },
    {
      "cell_type": "code",
      "source": [
        "import datasets\n",
        "\n",
        "train_dataset = CustomDataset(dataset[\"train\"], processor)"
      ],
      "metadata": {
        "id": "_bw9odvDuwJW"
      },
      "execution_count": 14,
      "outputs": []
    },
    {
      "cell_type": "code",
      "source": [
        "train_example = train_dataset[8]\n",
        "\n",
        "print(train_example.keys())"
      ],
      "metadata": {
        "colab": {
          "base_uri": "https://localhost:8080/"
        },
        "id": "6xdDLuCvu2y2",
        "outputId": "acb28592-643f-4572-d6bb-557b0227b67e"
      },
      "execution_count": 15,
      "outputs": [
        {
          "output_type": "stream",
          "name": "stdout",
          "text": [
            "dict_keys(['input_ids', 'attention_mask', 'bbox', 'pixel_values', 'labels'])\n"
          ]
        }
      ]
    },
    {
      "cell_type": "code",
      "source": [
        "print(processor.batch_decode(train_example[\"input_ids\"]))"
      ],
      "metadata": {
        "colab": {
          "base_uri": "https://localhost:8080/"
        },
        "id": "l--cj9B1EfPI",
        "outputId": "5026e3cd-2652-4812-c825-7006b4d91a16"
      },
      "execution_count": 16,
      "outputs": [
        {
          "output_type": "stream",
          "name": "stdout",
          "text": [
            "['Doc', 'ex', 'der', '29,', '1964', 'Mr', '.', 'Dur', 'n', 'o', 'y', 'C', '.', 'You', 'n', 'At', 't', 'or', 'n', 'o', 'y', 'at', 'Law', '2', '21', 'Ash', 'n', 'un', 'street', 'P', '.', 'O', '.', 'Box', '5', '16', 'S', 'ault', 'Ste', ',', 'Vari', 'e', ',', 'Me', 'h', 'i', 'can', '4', '978', '4', '', 'AN', 'RE', 'P', 'LY', 'RE', 'FER', '70', ':', 'Our', 'Fil', 'o', 'Yo', '.', '25', '15', 'Joan', 'wi', 'ital', 'a', ',', 'Ad', 'n', 'r', 'x', '.', '', 'v', 'y', '.', 'Py', 'Lor', 'illard', 'end', 'A', 'erie', 'an', '’', 'To', 'b', 'acco', 'Company', 'Dear', 'K', 'r', ',', 'Vo', 'un', 't', 'I', 'have', 'rev', 'ies', 'filed', 'in', 'this', '4', 'your', 'No', 'tion', 'which', 'you', 'have', 'caused', 'to', 'be', '', 'n', 'at', 't', 'or', '.', 'I', 'be', 'l', 'd', 'c', 've', 'that', 'ran', 'y', 'of', 'the', '', 'n', 'atter', 's', 'of', '', 'u', 'h', 'ich', 'you', '', 'e', ':', 'at', 'this', 'particular', 'tine', '', 'd', 'n', 'e', 'o', 'far', 'as', 'the', 'pl', 'sack', 'n', ',', 'concerned', '', 'e', 'an', 'be', '', 't', 'a', 'kon', 'care', 'of', 'by', '', 'acre', 'chon', 't', 'e', 'When', 'you', 'arrive', 'here', ',', 'we', 'can', 'perhaps', 'discuss', 'this', 'matter', 'and', 'arrive', 'at', 'son', 'e', '', 're', 'th', 'o', 'd', 'of', '', 'eat', 'is', 'f', 'ying', 'your', 'desires', 'in', 'relation', 'to', 'the', 'Con', 'plain', 't', '.', 'Inc', 'ident', 'ally', ',', '', 'if', 'you', 'have', 'not', '.', 'as', 'cor', 'tained', 'the', 'tie', 'and', 'the', 'date', 'with', 'Ju', 'd', 'z', 'o', 'Brenn', 'en', ',', 'I', 'would', 'suc', 'roc', 't', 'that', 'you', 'do', 'so', 'before', 'making', '', 'th', 'o', 'trip', 'in', 'this', \"'\", 'ar', 'za', 'as', 'there', 'co', 'on', 's', 'to', 'be', '', 'a', 'very', 'la', 'r', 'co', 'number', 'of', 'notion', 's', 'scheduled', 'for', 'the', '', 'o', 'pon', 'ing', 'day', 'of', '', 'th', 'a', '', 'tern', '.', 'Since', 'rely', ',', 'WI', 'STE', '', '&', 'ga', 'A', 's', 'kat', 'ani', 's', 'n', 'Andrew', 'H', '.', 'Vi', 'sti', 'AM', 'h', '/', 'e', 'm', '', 'e', 'e', ':', 'Joan', 'W', 'vit', 'tal', 'a', '09', '4', '99', '09', '</s>', '<pad>', '<pad>', '<pad>', '<pad>', '<pad>', '<pad>', '<pad>', '<pad>', '<pad>', '<pad>', '<pad>', '<pad>', '<pad>', '<pad>', '<pad>', '<pad>', '<pad>', '<pad>', '<pad>', '<pad>', '<pad>', '<pad>', '<pad>', '<pad>', '<pad>', '<pad>', '<pad>', '<pad>', '<pad>', '<pad>', '<pad>', '<pad>', '<pad>', '<pad>', '<pad>', '<pad>', '<pad>', '<pad>', '<pad>', '<pad>', '<pad>', '<pad>', '<pad>', '<pad>', '<pad>', '<pad>', '<pad>', '<pad>', '<pad>', '<pad>', '<pad>', '<pad>', '<pad>', '<pad>', '<pad>', '<pad>', '<pad>', '<pad>', '<pad>', '<pad>', '<pad>', '<pad>', '<pad>', '<pad>', '<pad>', '<pad>', '<pad>', '<pad>', '<pad>', '<pad>', '<pad>', '<pad>', '<pad>', '<pad>', '<pad>', '<pad>', '<pad>', '<pad>', '<pad>', '<pad>', '<pad>', '<pad>', '<pad>', '<pad>', '<pad>', '<pad>', '<pad>', '<pad>', '<pad>', '<pad>', '<pad>', '<pad>', '<pad>', '<pad>', '<pad>', '<pad>', '<pad>', '<pad>', '<pad>', '<pad>', '<pad>', '<pad>', '<pad>', '<pad>', '<pad>', '<pad>', '<pad>', '<pad>', '<pad>', '<pad>', '<pad>', '<pad>', '<pad>', '<pad>', '<pad>', '<pad>', '<pad>', '<pad>', '<pad>', '<pad>', '<pad>', '<pad>', '<pad>', '<pad>', '<pad>', '<pad>', '<pad>', '<pad>', '<pad>', '<pad>', '<pad>', '<pad>', '<pad>', '<pad>', '<pad>', '<pad>', '<pad>', '<pad>', '<pad>', '<pad>', '<pad>', '<pad>', '<pad>', '<pad>', '<pad>', '<pad>', '<pad>', '<pad>', '<pad>', '<pad>', '<pad>', '<pad>', '<pad>', '<pad>', '<pad>', '<pad>', '<pad>', '<pad>', '<pad>', '<pad>', '<pad>', '<pad>', '<pad>', '<pad>', '<pad>', '<pad>', '<pad>', '<pad>', '<pad>', '<pad>', '<pad>', '<pad>', '<pad>', '<pad>', '<pad>', '<pad>', '<pad>', '<pad>', '<pad>', '<pad>']\n"
          ]
        }
      ]
    },
    {
      "cell_type": "code",
      "source": [
        "print(processor.batch_decode(train_example[\"labels\"]))"
      ],
      "metadata": {
        "colab": {
          "base_uri": "https://localhost:8080/"
        },
        "id": "fw7xuunQprHc",
        "outputId": "ed80b37b-b0ce-400e-9936-522c570382c8"
      },
      "execution_count": 17,
      "outputs": [
        {
          "output_type": "stream",
          "name": "stdout",
          "text": [
            "['document', 'image', 'classification', '.', 'letter', '</s>', '<pad>', '<pad>', '<pad>', '<pad>']\n"
          ]
        }
      ]
    },
    {
      "cell_type": "markdown",
      "source": [
        "## Create PyTorch DataLoader\n",
        "\n",
        "Next, we create a corresponding PyTorch DataLoader, which gives us batches of data. As the model is quite memory intensive, we'll use a batch size of 1 here, which can be combined with gradient accumulation/checkpoint to increase training efficiency.\n",
        "\n",
        "I highly recommend to read the [\"efficient training on a single GPU\"](https://huggingface.co/docs/transformers/en/perf_train_gpu_one) guide if you want to know more."
      ],
      "metadata": {
        "id": "49YNMJZqp9Ei"
      }
    },
    {
      "cell_type": "code",
      "source": [
        "from torch.utils.data import DataLoader\n",
        "\n",
        "train_dataloader = DataLoader(train_dataset, batch_size=1, shuffle=True)"
      ],
      "metadata": {
        "id": "Cz1-osANu5t8"
      },
      "execution_count": 18,
      "outputs": []
    },
    {
      "cell_type": "code",
      "source": [
        "batch = next(iter(train_dataloader))\n",
        "for k,v in batch.items():\n",
        "  print(k,v.shape)"
      ],
      "metadata": {
        "colab": {
          "base_uri": "https://localhost:8080/"
        },
        "id": "bjPimZlnvCPQ",
        "outputId": "92c770ed-6559-485c-9b03-71601389bc14"
      },
      "execution_count": 19,
      "outputs": [
        {
          "output_type": "stream",
          "name": "stdout",
          "text": [
            "input_ids torch.Size([1, 512])\n",
            "attention_mask torch.Size([1, 512])\n",
            "bbox torch.Size([1, 512, 4])\n",
            "pixel_values torch.Size([1, 3, 224, 224])\n",
            "labels torch.Size([1, 10])\n"
          ]
        }
      ]
    },
    {
      "cell_type": "code",
      "source": [
        "print(processor.batch_decode(batch[\"input_ids\"][0]))"
      ],
      "metadata": {
        "colab": {
          "base_uri": "https://localhost:8080/"
        },
        "id": "ufadiYubvFpX",
        "outputId": "a05673d8-c61d-434d-e9b9-0897e0a4b758"
      },
      "execution_count": 20,
      "outputs": [
        {
          "output_type": "stream",
          "name": "stdout",
          "text": [
            "['January', '29,', '1998', 'Bible', 'Opening', 'Re', 'mark', 's', '', '-', 'House', 'Commerce', 'Com', ':', 'Mr', '.', 'Chairman', 'and', 'Members', 'of', 'the', 'Committee', ':', '1', \"'\", 'm', 'Ge', 'off', 'Bible', '.', 'For', 'the', 'past', 'three', 'years', 'I', 'have', 'been', 'Chairman', 'and', 'Chief', 'Executive', 'Officer', 'of', 'Philip', 'Morris', 'Companies', '.', 'I', 'appreciate', 'the', 'opportunity', 'to', 'appear', 'before', 'the', 'Committee', 'today', 'and', 'to', 'discuss', 'with', 'you', 'the', 'Pro', 'posed', 'Resolution', '.', '1', 'am', 'proud', 'to', 'represent', 'the', 'largest', 'consumer', '-', 'product', 's', 'company', 'in', 'the', 'world', 'and', 'even', 'proud', 'er', 'of', 'our', 'more', 'than', '1', '50,000', 'employees', '.', '', '.', '', '.', '', '70,000', 'in', 'the', 'United', 'States', 'alone', '.', '', '.', '', '.', 'who', 'develop', ',', 'manufacture', 'and', 'market', 'leading', 'brands', 'in', 'the', 'tobacco', ',', 'food', 'and', 'beer', 'industries', '.', 'Mr', '.', 'Chairman', ',', 'I', \"'\", 'm', 'here', 'today', 'to', 'listen', 'as', 'well', 'as', 'to', 'speak', '.', 'I', 'want', 'to', 'assure', 'each', 'member', 'of', 'the', 'Committee', 'that', 'I', 'know', 'how', 'important', 'it', 'is', 'to', 'engage', 'in', 'two', '-', 'way', 'discussion', '.', 'I', 'recognize', 'that', 'the', 'tobacco', 'industry', 'is', 'the', 'subject', 'of', 'intense', 'criticism', 'for', 'its', 'past', 'actions', 'and', 'for', 'its', 'role', 'in', 'the', 'social', ',', 'political', 'and', 'legal', 'controversy', 'over', 'tobacco', 'products', 'And', 'many', 'of', 'the', 'authors', 'of', 'this', 'criticism', 'I', 'believe', 'to', 'be', 'reasonable', 'people', '.', 'We', 'have', 'arrived', 'at', 'today', '’', 's', 'hearing', 'after', '40', 'years', 'of', 'constant', 'and', 'increasingly', 'angry', 'litigation', 'and', 'conflict', '.', 'In', 'many', 'instances', ',', 'we', 'have', 'operated', 'as', '', 'if', 'we', 'felt', 'under', '', 'a', 'virtual', 'state', 'of', 'sie', 'ge', ',', 'which', 'too', 'often', 'has', 'result', 'e', 'd', 'in', 'our', 'failure', 'to', 'compromise', ',', 'cooperate', 'or', 'embrace', 'changes', 'sought', 'by', 'our', 'critic', 's', '.', '‘', 'That', 'failure', 'has', ',', 'in', 'turn', ',', 'led', 'to', 'more', 'and', 'even', 'greater', 'confrontation', ',', 'without', '', 're', 'solv', 'ing', 'any', 'of', 'the', 'controversial', 'issues', '.', 'In', 'hin', 'd', 's', 'ight', 'I', 'wish', 'that', ',', 'years', 'ago', ',', 'I', \"'\", 'd', 'had', 'the', 'for', 'e', 's', 'ight', 'to', 'try', 'and', 'find', 'common', 'ground', 'with', 'our', 'critic', 's', '.', 'A', '20', 'v', '8', 'L', 'p', 'L', 'o', 'z', '</s>', '<pad>', '<pad>', '<pad>', '<pad>', '<pad>', '<pad>', '<pad>', '<pad>', '<pad>', '<pad>', '<pad>', '<pad>', '<pad>', '<pad>', '<pad>', '<pad>', '<pad>', '<pad>', '<pad>', '<pad>', '<pad>', '<pad>', '<pad>', '<pad>', '<pad>', '<pad>', '<pad>', '<pad>', '<pad>', '<pad>', '<pad>', '<pad>', '<pad>', '<pad>', '<pad>', '<pad>', '<pad>', '<pad>', '<pad>', '<pad>', '<pad>', '<pad>', '<pad>', '<pad>', '<pad>', '<pad>', '<pad>', '<pad>', '<pad>', '<pad>', '<pad>', '<pad>', '<pad>', '<pad>', '<pad>', '<pad>', '<pad>', '<pad>', '<pad>', '<pad>', '<pad>', '<pad>', '<pad>', '<pad>', '<pad>', '<pad>', '<pad>', '<pad>', '<pad>', '<pad>', '<pad>', '<pad>', '<pad>', '<pad>', '<pad>', '<pad>', '<pad>', '<pad>', '<pad>', '<pad>', '<pad>', '<pad>', '<pad>', '<pad>', '<pad>', '<pad>', '<pad>', '<pad>', '<pad>', '<pad>', '<pad>', '<pad>', '<pad>', '<pad>', '<pad>', '<pad>', '<pad>', '<pad>', '<pad>', '<pad>', '<pad>', '<pad>', '<pad>', '<pad>', '<pad>', '<pad>', '<pad>', '<pad>', '<pad>', '<pad>', '<pad>', '<pad>', '<pad>', '<pad>', '<pad>', '<pad>', '<pad>', '<pad>', '<pad>', '<pad>', '<pad>', '<pad>', '<pad>', '<pad>', '<pad>', '<pad>', '<pad>', '<pad>', '<pad>', '<pad>', '<pad>', '<pad>', '<pad>', '<pad>', '<pad>', '<pad>', '<pad>', '<pad>', '<pad>', '<pad>', '<pad>', '<pad>', '<pad>', '<pad>', '<pad>', '<pad>', '<pad>', '<pad>', '<pad>', '<pad>', '<pad>', '<pad>', '<pad>', '<pad>', '<pad>', '<pad>', '<pad>', '<pad>', '<pad>', '<pad>', '<pad>', '<pad>', '<pad>', '<pad>']\n"
          ]
        }
      ]
    },
    {
      "cell_type": "code",
      "source": [
        "print(processor.batch_decode(batch[\"labels\"][0]))"
      ],
      "metadata": {
        "colab": {
          "base_uri": "https://localhost:8080/"
        },
        "id": "gLq4Mez-EnAv",
        "outputId": "55b11297-1f61-41b3-a55c-504b37415bb2"
      },
      "execution_count": 21,
      "outputs": [
        {
          "output_type": "stream",
          "name": "stdout",
          "text": [
            "['document', 'image', 'classification', '.', 'presentation', '</s>', '<pad>', '<pad>', '<pad>', '<pad>']\n"
          ]
        }
      ]
    },
    {
      "cell_type": "code",
      "source": [
        "batch[\"bbox\"].type()"
      ],
      "metadata": {
        "colab": {
          "base_uri": "https://localhost:8080/",
          "height": 35
        },
        "id": "3-ZrJuwPtx4D",
        "outputId": "6c5e1b0d-d80a-4386-925d-0170eb86eb02"
      },
      "execution_count": 28,
      "outputs": [
        {
          "output_type": "execute_result",
          "data": {
            "text/plain": [
              "'torch.cuda.LongTensor'"
            ],
            "application/vnd.google.colaboratory.intrinsic+json": {
              "type": "string"
            }
          },
          "metadata": {},
          "execution_count": 28
        }
      ]
    },
    {
      "cell_type": "markdown",
      "source": [
        "## Train the model\n",
        "\n",
        "Next, let's train the model!"
      ],
      "metadata": {
        "id": "aQnDnK3k81Ft"
      }
    },
    {
      "cell_type": "code",
      "source": [
        "import transformers\n",
        "import torch\n",
        "import bitsandbytes as bnb\n",
        "from tqdm.auto import tqdm\n",
        "\n",
        "transformers.utils.logging.set_verbosity_error()\n",
        "\n",
        "# we'll replace the memory-intensive AdamW by Adam-8bit\n",
        "# so rather than using this:\n",
        "# from torch.optim import AdamW\n",
        "# optimizer = AdamW(model.parameters(), lr=5e-5)\n",
        "# we'll use this:\n",
        "optimizer = bnb.optim.Adam8bit(model.parameters(), lr=5e-5)\n",
        "\n",
        "# put model on GPU\n",
        "device = \"cuda\" if torch.cuda.is_available() else \"cpu\"\n",
        "model.to(device)\n",
        "\n",
        "model.train()\n",
        "for epoch in range(10):  # loop over the dataset multiple times\n",
        "  print(\"Epoch:\", epoch)\n",
        "  for batch in tqdm(train_dataloader):\n",
        "      # get the inputs;\n",
        "      batch = {k:v.to(device) for k,v in batch.items()}\n",
        "      input_ids = batch[\"input_ids\"]\n",
        "      attention_mask = batch[\"attention_mask\"]\n",
        "      bbox = batch[\"bbox\"]\n",
        "      pixel_values = batch[\"pixel_values\"]\n",
        "      labels = batch[\"labels\"]\n",
        "\n",
        "      # zero the parameter gradients\n",
        "      optimizer.zero_grad()\n",
        "\n",
        "      # forward pass\n",
        "      outputs = model(\n",
        "          input_ids=input_ids,\n",
        "          attention_mask=attention_mask,\n",
        "          bbox=bbox,\n",
        "          pixel_values=pixel_values,\n",
        "          labels=labels,\n",
        "      )\n",
        "      loss = outputs.loss\n",
        "      loss.backward()\n",
        "      optimizer.step()\n",
        "\n",
        "      print(\"Loss:\", loss.item())\n",
        "\n",
        "\n",
        "  if epoch % 2 == 0:\n",
        "      # run a random autoregressive generation\n",
        "      model.eval()\n",
        "\n",
        "      predictions = model.generate(input_ids=input_ids, attention_mask=attention_mask, bbox=bbox)\n",
        "      print(\"Predictions:\", processor.batch_decode(predictions, skip_special_tokens=True))\n",
        "\n",
        "      # put model back in training mode\n",
        "      model.train()"
      ],
      "metadata": {
        "colab": {
          "base_uri": "https://localhost:8080/",
          "height": 1000,
          "referenced_widgets": [
            "4eaec3b4412e4f10809a4c17e209d750",
            "7ab4864df0464097ba050161b0819b99",
            "25abef59703e4fee86f275489245859d",
            "bb1d1ade78c74a1c8355e5535cbfca74",
            "f68af81f0c3241c7a0b48f08faaea1b9",
            "1ebf978e54bd47bc94274548070af72d",
            "1d22cbd925e54ed4b795d6f643fbdd53",
            "127953bcb92246c3ac0d8d4627498b42",
            "9a9a93ea0ed7424cb66474a46075effa",
            "85cadecb85f64a9f9507e24de2c26c84",
            "471ea3412e1649e49f7eeb514aefd6eb"
          ]
        },
        "id": "ikPhbTHl0-fQ",
        "outputId": "77ae1ada-f8ac-46f5-9ec2-c5d48324eed5"
      },
      "execution_count": 25,
      "outputs": [
        {
          "output_type": "stream",
          "name": "stdout",
          "text": [
            "Epoch: 0\n"
          ]
        },
        {
          "output_type": "display_data",
          "data": {
            "text/plain": [
              "  0%|          | 0/160 [00:00<?, ?it/s]"
            ],
            "application/vnd.jupyter.widget-view+json": {
              "version_major": 2,
              "version_minor": 0,
              "model_id": "4eaec3b4412e4f10809a4c17e209d750"
            }
          },
          "metadata": {}
        },
        {
          "output_type": "stream",
          "name": "stdout",
          "text": [
            "Loss: 0.009311027824878693\n",
            "Loss: 0.698961079120636\n",
            "Loss: 0.6105748414993286\n",
            "Loss: 0.04573800787329674\n",
            "Loss: 0.017915325239300728\n",
            "Loss: 0.04596346244215965\n",
            "Loss: 0.005824372638016939\n",
            "Loss: 0.029294857755303383\n",
            "Loss: 0.05546893924474716\n",
            "Loss: 0.025749165564775467\n",
            "Loss: 0.5225600004196167\n",
            "Loss: 0.6716193556785583\n",
            "Loss: 0.10908721387386322\n",
            "Loss: 0.18589894473552704\n",
            "Loss: 0.030583759769797325\n",
            "Loss: 0.13334789872169495\n",
            "Loss: 0.38007161021232605\n",
            "Loss: 0.041963137686252594\n",
            "Loss: 0.007802598178386688\n",
            "Loss: 0.11939841508865356\n",
            "Loss: 0.23295409977436066\n",
            "Loss: 0.009234707802534103\n",
            "Loss: 0.8880694508552551\n",
            "Loss: 0.0046111224219202995\n",
            "Loss: 0.21347686648368835\n",
            "Loss: 0.014984461478888988\n",
            "Loss: 0.0041926768608391285\n",
            "Loss: 0.9880384206771851\n",
            "Loss: 0.3298519551753998\n",
            "Loss: 0.19496679306030273\n",
            "Loss: 0.6379857659339905\n",
            "Loss: 0.05337008833885193\n",
            "Loss: 0.1607438176870346\n",
            "Loss: 0.15273332595825195\n",
            "Loss: 0.2749519646167755\n",
            "Loss: 0.0502079613506794\n",
            "Loss: 0.02470693178474903\n",
            "Loss: 0.17771443724632263\n",
            "Loss: 0.5299607515335083\n",
            "Loss: 0.32925716042518616\n",
            "Loss: 0.003907535225152969\n",
            "Loss: 0.012209292501211166\n",
            "Loss: 0.0018663586815819144\n",
            "Loss: 0.3834989368915558\n",
            "Loss: 0.2908947467803955\n",
            "Loss: 0.006871501449495554\n",
            "Loss: 0.061201997101306915\n",
            "Loss: 0.005946393124759197\n",
            "Loss: 0.055928416550159454\n",
            "Loss: 0.01183087658137083\n",
            "Loss: 0.0009738698718138039\n",
            "Loss: 0.074989914894104\n",
            "Loss: 0.008937643840909004\n",
            "Loss: 0.6548689007759094\n",
            "Loss: 0.11677940934896469\n",
            "Loss: 0.007492493838071823\n",
            "Loss: 0.4651755690574646\n",
            "Loss: 0.2894594669342041\n",
            "Loss: 0.005364204756915569\n",
            "Loss: 0.007142603397369385\n",
            "Loss: 1.0518548488616943\n",
            "Loss: 0.004005809314548969\n",
            "Loss: 0.6491903066635132\n",
            "Loss: 0.009284893982112408\n",
            "Loss: 0.1928902268409729\n",
            "Loss: 0.10363996028900146\n",
            "Loss: 0.019405482336878777\n",
            "Loss: 0.002829692792147398\n",
            "Loss: 0.06375396251678467\n",
            "Loss: 0.003689758013933897\n",
            "Loss: 0.17531445622444153\n",
            "Loss: 0.003764083608984947\n",
            "Loss: 0.03829258307814598\n",
            "Loss: 0.029801204800605774\n",
            "Loss: 0.21257419884204865\n",
            "Loss: 0.8127373456954956\n",
            "Loss: 0.0164831280708313\n",
            "Loss: 0.005067413207143545\n",
            "Loss: 0.07002885639667511\n",
            "Loss: 0.81123286485672\n",
            "Loss: 0.027410095557570457\n",
            "Loss: 0.1667032539844513\n",
            "Loss: 0.5766813158988953\n",
            "Loss: 0.09398932754993439\n",
            "Loss: 0.36394816637039185\n",
            "Loss: 0.008341778069734573\n",
            "Loss: 0.8404883146286011\n",
            "Loss: 0.2009916603565216\n",
            "Loss: 0.0039846086874604225\n",
            "Loss: 0.021502729505300522\n",
            "Loss: 0.1175568550825119\n",
            "Loss: 0.23264510929584503\n",
            "Loss: 0.0303613543510437\n",
            "Loss: 0.09960407018661499\n",
            "Loss: 0.02559378184378147\n",
            "Loss: 0.005301778204739094\n",
            "Loss: 0.07354550063610077\n",
            "Loss: 0.011039248667657375\n",
            "Loss: 0.006513906177133322\n",
            "Loss: 0.014490733854472637\n",
            "Loss: 0.0037838537245988846\n",
            "Loss: 0.022309955209493637\n",
            "Loss: 0.043385155498981476\n",
            "Loss: 0.3347720205783844\n",
            "Loss: 0.370769202709198\n",
            "Loss: 0.0035016071051359177\n",
            "Loss: 0.6011618375778198\n",
            "Loss: 0.009113604202866554\n",
            "Loss: 0.003968694247305393\n",
            "Loss: 0.2846488058567047\n",
            "Loss: 0.0689079761505127\n",
            "Loss: 0.1123175397515297\n",
            "Loss: 0.012996953912079334\n",
            "Loss: 0.0005902665434405208\n",
            "Loss: 0.0663786306977272\n",
            "Loss: 0.001598189934156835\n",
            "Loss: 0.2462558001279831\n",
            "Loss: 0.06730815768241882\n",
            "Loss: 0.0057199252769351006\n",
            "Loss: 0.01434054784476757\n",
            "Loss: 0.002281786873936653\n",
            "Loss: 0.002918628975749016\n",
            "Loss: 0.009178252890706062\n",
            "Loss: 0.0014348524855449796\n",
            "Loss: 0.5884107947349548\n",
            "Loss: 0.0048169419169425964\n",
            "Loss: 0.005169682204723358\n",
            "Loss: 0.061998289078474045\n",
            "Loss: 0.012191441841423512\n",
            "Loss: 0.5268527865409851\n",
            "Loss: 0.027709951624274254\n",
            "Loss: 0.08406845480203629\n",
            "Loss: 0.3461426794528961\n",
            "Loss: 0.021980229765176773\n",
            "Loss: 0.498788982629776\n",
            "Loss: 0.004952670074999332\n",
            "Loss: 0.05672619864344597\n",
            "Loss: 0.03878702595829964\n",
            "Loss: 0.22598746418952942\n",
            "Loss: 0.43827003240585327\n",
            "Loss: 0.04263576120138168\n",
            "Loss: 0.05931076407432556\n",
            "Loss: 0.023281624540686607\n",
            "Loss: 0.001287568244151771\n",
            "Loss: 0.023190978914499283\n",
            "Loss: 0.12222148478031158\n",
            "Loss: 0.02971009351313114\n",
            "Loss: 0.3763238489627838\n",
            "Loss: 0.005756414495408535\n",
            "Loss: 0.06830108165740967\n",
            "Loss: 0.32397106289863586\n",
            "Loss: 0.6219251155853271\n",
            "Loss: 0.010049963369965553\n",
            "Loss: 0.15161345899105072\n",
            "Loss: 0.02747710980474949\n",
            "Loss: 0.3005804121494293\n",
            "Loss: 0.0017833007732406259\n",
            "Loss: 0.26107528805732727\n",
            "Loss: 0.11810113489627838\n",
            "Loss: 0.018380746245384216\n"
          ]
        },
        {
          "output_type": "error",
          "ename": "RuntimeError",
          "evalue": "mean(): could not infer output dtype. Input dtype must be either a floating point or complex dtype. Got: Long",
          "traceback": [
            "\u001b[0;31m---------------------------------------------------------------------------\u001b[0m",
            "\u001b[0;31mRuntimeError\u001b[0m                              Traceback (most recent call last)",
            "\u001b[0;32m<ipython-input-25-a6fef8ae9fe6>\u001b[0m in \u001b[0;36m<cell line: 20>\u001b[0;34m()\u001b[0m\n\u001b[1;32m     49\u001b[0m   \u001b[0mmodel\u001b[0m\u001b[0;34m.\u001b[0m\u001b[0meval\u001b[0m\u001b[0;34m(\u001b[0m\u001b[0;34m)\u001b[0m\u001b[0;34m\u001b[0m\u001b[0;34m\u001b[0m\u001b[0m\n\u001b[1;32m     50\u001b[0m \u001b[0;34m\u001b[0m\u001b[0m\n\u001b[0;32m---> 51\u001b[0;31m   \u001b[0mpredictions\u001b[0m \u001b[0;34m=\u001b[0m \u001b[0mmodel\u001b[0m\u001b[0;34m.\u001b[0m\u001b[0mgenerate\u001b[0m\u001b[0;34m(\u001b[0m\u001b[0minput_ids\u001b[0m\u001b[0;34m=\u001b[0m\u001b[0minput_ids\u001b[0m\u001b[0;34m,\u001b[0m \u001b[0mattention_mask\u001b[0m\u001b[0;34m=\u001b[0m\u001b[0mattention_mask\u001b[0m\u001b[0;34m,\u001b[0m \u001b[0mbbox\u001b[0m\u001b[0;34m=\u001b[0m\u001b[0mbbox\u001b[0m\u001b[0;34m)\u001b[0m\u001b[0;34m\u001b[0m\u001b[0;34m\u001b[0m\u001b[0m\n\u001b[0m\u001b[1;32m     52\u001b[0m   \u001b[0mprint\u001b[0m\u001b[0;34m(\u001b[0m\u001b[0;34m\"Predictions:\"\u001b[0m\u001b[0;34m,\u001b[0m \u001b[0mprocessor\u001b[0m\u001b[0;34m.\u001b[0m\u001b[0mbatch_decode\u001b[0m\u001b[0;34m(\u001b[0m\u001b[0mpredictions\u001b[0m\u001b[0;34m,\u001b[0m \u001b[0mskip_special_tokens\u001b[0m\u001b[0;34m=\u001b[0m\u001b[0;32mTrue\u001b[0m\u001b[0;34m)\u001b[0m\u001b[0;34m)\u001b[0m\u001b[0;34m\u001b[0m\u001b[0;34m\u001b[0m\u001b[0m\n\u001b[1;32m     53\u001b[0m \u001b[0;34m\u001b[0m\u001b[0m\n",
            "\u001b[0;32m/usr/local/lib/python3.10/dist-packages/torch/utils/_contextlib.py\u001b[0m in \u001b[0;36mdecorate_context\u001b[0;34m(*args, **kwargs)\u001b[0m\n\u001b[1;32m    113\u001b[0m     \u001b[0;32mdef\u001b[0m \u001b[0mdecorate_context\u001b[0m\u001b[0;34m(\u001b[0m\u001b[0;34m*\u001b[0m\u001b[0margs\u001b[0m\u001b[0;34m,\u001b[0m \u001b[0;34m**\u001b[0m\u001b[0mkwargs\u001b[0m\u001b[0;34m)\u001b[0m\u001b[0;34m:\u001b[0m\u001b[0;34m\u001b[0m\u001b[0;34m\u001b[0m\u001b[0m\n\u001b[1;32m    114\u001b[0m         \u001b[0;32mwith\u001b[0m \u001b[0mctx_factory\u001b[0m\u001b[0;34m(\u001b[0m\u001b[0;34m)\u001b[0m\u001b[0;34m:\u001b[0m\u001b[0;34m\u001b[0m\u001b[0;34m\u001b[0m\u001b[0m\n\u001b[0;32m--> 115\u001b[0;31m             \u001b[0;32mreturn\u001b[0m \u001b[0mfunc\u001b[0m\u001b[0;34m(\u001b[0m\u001b[0;34m*\u001b[0m\u001b[0margs\u001b[0m\u001b[0;34m,\u001b[0m \u001b[0;34m**\u001b[0m\u001b[0mkwargs\u001b[0m\u001b[0;34m)\u001b[0m\u001b[0;34m\u001b[0m\u001b[0;34m\u001b[0m\u001b[0m\n\u001b[0m\u001b[1;32m    116\u001b[0m \u001b[0;34m\u001b[0m\u001b[0m\n\u001b[1;32m    117\u001b[0m     \u001b[0;32mreturn\u001b[0m \u001b[0mdecorate_context\u001b[0m\u001b[0;34m\u001b[0m\u001b[0;34m\u001b[0m\u001b[0m\n",
            "\u001b[0;32m/usr/local/lib/python3.10/dist-packages/transformers/generation/utils.py\u001b[0m in \u001b[0;36mgenerate\u001b[0;34m(self, inputs, generation_config, logits_processor, stopping_criteria, prefix_allowed_tokens_fn, synced_gpus, assistant_model, streamer, negative_prompt_ids, negative_prompt_attention_mask, **kwargs)\u001b[0m\n\u001b[1;32m   1392\u001b[0m             \u001b[0;31m# if model is encoder decoder encoder_outputs are created\u001b[0m\u001b[0;34m\u001b[0m\u001b[0;34m\u001b[0m\u001b[0m\n\u001b[1;32m   1393\u001b[0m             \u001b[0;31m# and added to `model_kwargs`\u001b[0m\u001b[0;34m\u001b[0m\u001b[0;34m\u001b[0m\u001b[0m\n\u001b[0;32m-> 1394\u001b[0;31m             model_kwargs = self._prepare_encoder_decoder_kwargs_for_generation(\n\u001b[0m\u001b[1;32m   1395\u001b[0m                 \u001b[0minputs_tensor\u001b[0m\u001b[0;34m,\u001b[0m \u001b[0mmodel_kwargs\u001b[0m\u001b[0;34m,\u001b[0m \u001b[0mmodel_input_name\u001b[0m\u001b[0;34m\u001b[0m\u001b[0;34m\u001b[0m\u001b[0m\n\u001b[1;32m   1396\u001b[0m             )\n",
            "\u001b[0;32m/usr/local/lib/python3.10/dist-packages/transformers/generation/utils.py\u001b[0m in \u001b[0;36m_prepare_encoder_decoder_kwargs_for_generation\u001b[0;34m(self, inputs_tensor, model_kwargs, model_input_name)\u001b[0m\n\u001b[1;32m    496\u001b[0m         \u001b[0mencoder_kwargs\u001b[0m\u001b[0;34m[\u001b[0m\u001b[0;34m\"return_dict\"\u001b[0m\u001b[0;34m]\u001b[0m \u001b[0;34m=\u001b[0m \u001b[0;32mTrue\u001b[0m\u001b[0;34m\u001b[0m\u001b[0;34m\u001b[0m\u001b[0m\n\u001b[1;32m    497\u001b[0m         \u001b[0mencoder_kwargs\u001b[0m\u001b[0;34m[\u001b[0m\u001b[0mmodel_input_name\u001b[0m\u001b[0;34m]\u001b[0m \u001b[0;34m=\u001b[0m \u001b[0minputs_tensor\u001b[0m\u001b[0;34m\u001b[0m\u001b[0;34m\u001b[0m\u001b[0m\n\u001b[0;32m--> 498\u001b[0;31m         \u001b[0mmodel_kwargs\u001b[0m\u001b[0;34m[\u001b[0m\u001b[0;34m\"encoder_outputs\"\u001b[0m\u001b[0;34m]\u001b[0m\u001b[0;34m:\u001b[0m \u001b[0mModelOutput\u001b[0m \u001b[0;34m=\u001b[0m \u001b[0mencoder\u001b[0m\u001b[0;34m(\u001b[0m\u001b[0;34m**\u001b[0m\u001b[0mencoder_kwargs\u001b[0m\u001b[0;34m)\u001b[0m\u001b[0;34m\u001b[0m\u001b[0;34m\u001b[0m\u001b[0m\n\u001b[0m\u001b[1;32m    499\u001b[0m \u001b[0;34m\u001b[0m\u001b[0m\n\u001b[1;32m    500\u001b[0m         \u001b[0;32mreturn\u001b[0m \u001b[0mmodel_kwargs\u001b[0m\u001b[0;34m\u001b[0m\u001b[0;34m\u001b[0m\u001b[0m\n",
            "\u001b[0;32m/usr/local/lib/python3.10/dist-packages/torch/nn/modules/module.py\u001b[0m in \u001b[0;36m_wrapped_call_impl\u001b[0;34m(self, *args, **kwargs)\u001b[0m\n\u001b[1;32m   1516\u001b[0m             \u001b[0;32mreturn\u001b[0m \u001b[0mself\u001b[0m\u001b[0;34m.\u001b[0m\u001b[0m_compiled_call_impl\u001b[0m\u001b[0;34m(\u001b[0m\u001b[0;34m*\u001b[0m\u001b[0margs\u001b[0m\u001b[0;34m,\u001b[0m \u001b[0;34m**\u001b[0m\u001b[0mkwargs\u001b[0m\u001b[0;34m)\u001b[0m  \u001b[0;31m# type: ignore[misc]\u001b[0m\u001b[0;34m\u001b[0m\u001b[0;34m\u001b[0m\u001b[0m\n\u001b[1;32m   1517\u001b[0m         \u001b[0;32melse\u001b[0m\u001b[0;34m:\u001b[0m\u001b[0;34m\u001b[0m\u001b[0;34m\u001b[0m\u001b[0m\n\u001b[0;32m-> 1518\u001b[0;31m             \u001b[0;32mreturn\u001b[0m \u001b[0mself\u001b[0m\u001b[0;34m.\u001b[0m\u001b[0m_call_impl\u001b[0m\u001b[0;34m(\u001b[0m\u001b[0;34m*\u001b[0m\u001b[0margs\u001b[0m\u001b[0;34m,\u001b[0m \u001b[0;34m**\u001b[0m\u001b[0mkwargs\u001b[0m\u001b[0;34m)\u001b[0m\u001b[0;34m\u001b[0m\u001b[0;34m\u001b[0m\u001b[0m\n\u001b[0m\u001b[1;32m   1519\u001b[0m \u001b[0;34m\u001b[0m\u001b[0m\n\u001b[1;32m   1520\u001b[0m     \u001b[0;32mdef\u001b[0m \u001b[0m_call_impl\u001b[0m\u001b[0;34m(\u001b[0m\u001b[0mself\u001b[0m\u001b[0;34m,\u001b[0m \u001b[0;34m*\u001b[0m\u001b[0margs\u001b[0m\u001b[0;34m,\u001b[0m \u001b[0;34m**\u001b[0m\u001b[0mkwargs\u001b[0m\u001b[0;34m)\u001b[0m\u001b[0;34m:\u001b[0m\u001b[0;34m\u001b[0m\u001b[0;34m\u001b[0m\u001b[0m\n",
            "\u001b[0;32m/usr/local/lib/python3.10/dist-packages/torch/nn/modules/module.py\u001b[0m in \u001b[0;36m_call_impl\u001b[0;34m(self, *args, **kwargs)\u001b[0m\n\u001b[1;32m   1525\u001b[0m                 \u001b[0;32mor\u001b[0m \u001b[0m_global_backward_pre_hooks\u001b[0m \u001b[0;32mor\u001b[0m \u001b[0m_global_backward_hooks\u001b[0m\u001b[0;34m\u001b[0m\u001b[0;34m\u001b[0m\u001b[0m\n\u001b[1;32m   1526\u001b[0m                 or _global_forward_hooks or _global_forward_pre_hooks):\n\u001b[0;32m-> 1527\u001b[0;31m             \u001b[0;32mreturn\u001b[0m \u001b[0mforward_call\u001b[0m\u001b[0;34m(\u001b[0m\u001b[0;34m*\u001b[0m\u001b[0margs\u001b[0m\u001b[0;34m,\u001b[0m \u001b[0;34m**\u001b[0m\u001b[0mkwargs\u001b[0m\u001b[0;34m)\u001b[0m\u001b[0;34m\u001b[0m\u001b[0;34m\u001b[0m\u001b[0m\n\u001b[0m\u001b[1;32m   1528\u001b[0m \u001b[0;34m\u001b[0m\u001b[0m\n\u001b[1;32m   1529\u001b[0m         \u001b[0;32mtry\u001b[0m\u001b[0;34m:\u001b[0m\u001b[0;34m\u001b[0m\u001b[0;34m\u001b[0m\u001b[0m\n",
            "\u001b[0;32m/usr/local/lib/python3.10/dist-packages/transformers/models/udop/modeling_udop.py\u001b[0m in \u001b[0;36mforward\u001b[0;34m(self, input_ids, attention_mask, encoder_hidden_states, encoder_attention_mask, inputs_embeds, pixel_values, head_mask, past_key_values, use_cache, output_attentions, output_hidden_states, return_dict, cross_attn_head_mask, position_bias, image_embeddings, bbox, visual_bbox, num_patches)\u001b[0m\n\u001b[1;32m   1414\u001b[0m             \u001b[0mposition_bias\u001b[0m \u001b[0;34m=\u001b[0m \u001b[0;32mNone\u001b[0m\u001b[0;34m\u001b[0m\u001b[0;34m\u001b[0m\u001b[0m\n\u001b[1;32m   1415\u001b[0m         \u001b[0;32melse\u001b[0m\u001b[0;34m:\u001b[0m\u001b[0;34m\u001b[0m\u001b[0;34m\u001b[0m\u001b[0m\n\u001b[0;32m-> 1416\u001b[0;31m             \u001b[0mposition_bias\u001b[0m \u001b[0;34m=\u001b[0m \u001b[0mself\u001b[0m\u001b[0;34m.\u001b[0m\u001b[0mrelative_bias\u001b[0m\u001b[0;34m(\u001b[0m\u001b[0mattention_mask\u001b[0m\u001b[0;34m=\u001b[0m\u001b[0mattention_mask\u001b[0m\u001b[0;34m,\u001b[0m \u001b[0mbbox\u001b[0m\u001b[0;34m=\u001b[0m\u001b[0mbbox\u001b[0m\u001b[0;34m)\u001b[0m\u001b[0;34m\u001b[0m\u001b[0;34m\u001b[0m\u001b[0m\n\u001b[0m\u001b[1;32m   1417\u001b[0m             \u001b[0mposition_bias\u001b[0m \u001b[0;34m=\u001b[0m \u001b[0mposition_bias\u001b[0m \u001b[0;34m+\u001b[0m \u001b[0mextended_attention_mask\u001b[0m\u001b[0;34m\u001b[0m\u001b[0;34m\u001b[0m\u001b[0m\n\u001b[1;32m   1418\u001b[0m         \u001b[0mencoder_decoder_position_bias\u001b[0m \u001b[0;34m=\u001b[0m \u001b[0;32mNone\u001b[0m\u001b[0;34m\u001b[0m\u001b[0;34m\u001b[0m\u001b[0m\n",
            "\u001b[0;32m/usr/local/lib/python3.10/dist-packages/torch/nn/modules/module.py\u001b[0m in \u001b[0;36m_wrapped_call_impl\u001b[0;34m(self, *args, **kwargs)\u001b[0m\n\u001b[1;32m   1516\u001b[0m             \u001b[0;32mreturn\u001b[0m \u001b[0mself\u001b[0m\u001b[0;34m.\u001b[0m\u001b[0m_compiled_call_impl\u001b[0m\u001b[0;34m(\u001b[0m\u001b[0;34m*\u001b[0m\u001b[0margs\u001b[0m\u001b[0;34m,\u001b[0m \u001b[0;34m**\u001b[0m\u001b[0mkwargs\u001b[0m\u001b[0;34m)\u001b[0m  \u001b[0;31m# type: ignore[misc]\u001b[0m\u001b[0;34m\u001b[0m\u001b[0;34m\u001b[0m\u001b[0m\n\u001b[1;32m   1517\u001b[0m         \u001b[0;32melse\u001b[0m\u001b[0;34m:\u001b[0m\u001b[0;34m\u001b[0m\u001b[0;34m\u001b[0m\u001b[0m\n\u001b[0;32m-> 1518\u001b[0;31m             \u001b[0;32mreturn\u001b[0m \u001b[0mself\u001b[0m\u001b[0;34m.\u001b[0m\u001b[0m_call_impl\u001b[0m\u001b[0;34m(\u001b[0m\u001b[0;34m*\u001b[0m\u001b[0margs\u001b[0m\u001b[0;34m,\u001b[0m \u001b[0;34m**\u001b[0m\u001b[0mkwargs\u001b[0m\u001b[0;34m)\u001b[0m\u001b[0;34m\u001b[0m\u001b[0;34m\u001b[0m\u001b[0m\n\u001b[0m\u001b[1;32m   1519\u001b[0m \u001b[0;34m\u001b[0m\u001b[0m\n\u001b[1;32m   1520\u001b[0m     \u001b[0;32mdef\u001b[0m \u001b[0m_call_impl\u001b[0m\u001b[0;34m(\u001b[0m\u001b[0mself\u001b[0m\u001b[0;34m,\u001b[0m \u001b[0;34m*\u001b[0m\u001b[0margs\u001b[0m\u001b[0;34m,\u001b[0m \u001b[0;34m**\u001b[0m\u001b[0mkwargs\u001b[0m\u001b[0;34m)\u001b[0m\u001b[0;34m:\u001b[0m\u001b[0;34m\u001b[0m\u001b[0;34m\u001b[0m\u001b[0m\n",
            "\u001b[0;32m/usr/local/lib/python3.10/dist-packages/torch/nn/modules/module.py\u001b[0m in \u001b[0;36m_call_impl\u001b[0;34m(self, *args, **kwargs)\u001b[0m\n\u001b[1;32m   1525\u001b[0m                 \u001b[0;32mor\u001b[0m \u001b[0m_global_backward_pre_hooks\u001b[0m \u001b[0;32mor\u001b[0m \u001b[0m_global_backward_hooks\u001b[0m\u001b[0;34m\u001b[0m\u001b[0;34m\u001b[0m\u001b[0m\n\u001b[1;32m   1526\u001b[0m                 or _global_forward_hooks or _global_forward_pre_hooks):\n\u001b[0;32m-> 1527\u001b[0;31m             \u001b[0;32mreturn\u001b[0m \u001b[0mforward_call\u001b[0m\u001b[0;34m(\u001b[0m\u001b[0;34m*\u001b[0m\u001b[0margs\u001b[0m\u001b[0;34m,\u001b[0m \u001b[0;34m**\u001b[0m\u001b[0mkwargs\u001b[0m\u001b[0;34m)\u001b[0m\u001b[0;34m\u001b[0m\u001b[0;34m\u001b[0m\u001b[0m\n\u001b[0m\u001b[1;32m   1528\u001b[0m \u001b[0;34m\u001b[0m\u001b[0m\n\u001b[1;32m   1529\u001b[0m         \u001b[0;32mtry\u001b[0m\u001b[0;34m:\u001b[0m\u001b[0;34m\u001b[0m\u001b[0;34m\u001b[0m\u001b[0m\n",
            "\u001b[0;32m/usr/local/lib/python3.10/dist-packages/transformers/models/udop/modeling_udop.py\u001b[0m in \u001b[0;36mforward\u001b[0;34m(self, attention_mask, bbox)\u001b[0m\n\u001b[1;32m   1213\u001b[0m         \u001b[0moutput\u001b[0m \u001b[0;34m=\u001b[0m \u001b[0;36m0.0\u001b[0m\u001b[0;34m\u001b[0m\u001b[0;34m\u001b[0m\u001b[0m\n\u001b[1;32m   1214\u001b[0m         \u001b[0;32mfor\u001b[0m \u001b[0mbias\u001b[0m \u001b[0;32min\u001b[0m \u001b[0mself\u001b[0m\u001b[0;34m.\u001b[0m\u001b[0mbiases\u001b[0m\u001b[0;34m:\u001b[0m  \u001b[0;31m# type: ignore\u001b[0m\u001b[0;34m\u001b[0m\u001b[0;34m\u001b[0m\u001b[0m\n\u001b[0;32m-> 1215\u001b[0;31m             \u001b[0moutput\u001b[0m \u001b[0;34m=\u001b[0m \u001b[0mbias\u001b[0m\u001b[0;34m(\u001b[0m\u001b[0mattention_mask\u001b[0m\u001b[0;34m,\u001b[0m \u001b[0mbbox\u001b[0m\u001b[0;34m)\u001b[0m \u001b[0;34m+\u001b[0m \u001b[0moutput\u001b[0m\u001b[0;34m\u001b[0m\u001b[0;34m\u001b[0m\u001b[0m\n\u001b[0m\u001b[1;32m   1216\u001b[0m \u001b[0;34m\u001b[0m\u001b[0m\n\u001b[1;32m   1217\u001b[0m         \u001b[0;32mreturn\u001b[0m \u001b[0moutput\u001b[0m\u001b[0;34m\u001b[0m\u001b[0;34m\u001b[0m\u001b[0m\n",
            "\u001b[0;32m/usr/local/lib/python3.10/dist-packages/torch/nn/modules/module.py\u001b[0m in \u001b[0;36m_wrapped_call_impl\u001b[0;34m(self, *args, **kwargs)\u001b[0m\n\u001b[1;32m   1516\u001b[0m             \u001b[0;32mreturn\u001b[0m \u001b[0mself\u001b[0m\u001b[0;34m.\u001b[0m\u001b[0m_compiled_call_impl\u001b[0m\u001b[0;34m(\u001b[0m\u001b[0;34m*\u001b[0m\u001b[0margs\u001b[0m\u001b[0;34m,\u001b[0m \u001b[0;34m**\u001b[0m\u001b[0mkwargs\u001b[0m\u001b[0;34m)\u001b[0m  \u001b[0;31m# type: ignore[misc]\u001b[0m\u001b[0;34m\u001b[0m\u001b[0;34m\u001b[0m\u001b[0m\n\u001b[1;32m   1517\u001b[0m         \u001b[0;32melse\u001b[0m\u001b[0;34m:\u001b[0m\u001b[0;34m\u001b[0m\u001b[0;34m\u001b[0m\u001b[0m\n\u001b[0;32m-> 1518\u001b[0;31m             \u001b[0;32mreturn\u001b[0m \u001b[0mself\u001b[0m\u001b[0;34m.\u001b[0m\u001b[0m_call_impl\u001b[0m\u001b[0;34m(\u001b[0m\u001b[0;34m*\u001b[0m\u001b[0margs\u001b[0m\u001b[0;34m,\u001b[0m \u001b[0;34m**\u001b[0m\u001b[0mkwargs\u001b[0m\u001b[0;34m)\u001b[0m\u001b[0;34m\u001b[0m\u001b[0;34m\u001b[0m\u001b[0m\n\u001b[0m\u001b[1;32m   1519\u001b[0m \u001b[0;34m\u001b[0m\u001b[0m\n\u001b[1;32m   1520\u001b[0m     \u001b[0;32mdef\u001b[0m \u001b[0m_call_impl\u001b[0m\u001b[0;34m(\u001b[0m\u001b[0mself\u001b[0m\u001b[0;34m,\u001b[0m \u001b[0;34m*\u001b[0m\u001b[0margs\u001b[0m\u001b[0;34m,\u001b[0m \u001b[0;34m**\u001b[0m\u001b[0mkwargs\u001b[0m\u001b[0;34m)\u001b[0m\u001b[0;34m:\u001b[0m\u001b[0;34m\u001b[0m\u001b[0;34m\u001b[0m\u001b[0m\n",
            "\u001b[0;32m/usr/local/lib/python3.10/dist-packages/torch/nn/modules/module.py\u001b[0m in \u001b[0;36m_call_impl\u001b[0;34m(self, *args, **kwargs)\u001b[0m\n\u001b[1;32m   1525\u001b[0m                 \u001b[0;32mor\u001b[0m \u001b[0m_global_backward_pre_hooks\u001b[0m \u001b[0;32mor\u001b[0m \u001b[0m_global_backward_hooks\u001b[0m\u001b[0;34m\u001b[0m\u001b[0;34m\u001b[0m\u001b[0m\n\u001b[1;32m   1526\u001b[0m                 or _global_forward_hooks or _global_forward_pre_hooks):\n\u001b[0;32m-> 1527\u001b[0;31m             \u001b[0;32mreturn\u001b[0m \u001b[0mforward_call\u001b[0m\u001b[0;34m(\u001b[0m\u001b[0;34m*\u001b[0m\u001b[0margs\u001b[0m\u001b[0;34m,\u001b[0m \u001b[0;34m**\u001b[0m\u001b[0mkwargs\u001b[0m\u001b[0;34m)\u001b[0m\u001b[0;34m\u001b[0m\u001b[0;34m\u001b[0m\u001b[0m\n\u001b[0m\u001b[1;32m   1528\u001b[0m \u001b[0;34m\u001b[0m\u001b[0m\n\u001b[1;32m   1529\u001b[0m         \u001b[0;32mtry\u001b[0m\u001b[0;34m:\u001b[0m\u001b[0;34m\u001b[0m\u001b[0;34m\u001b[0m\u001b[0m\n",
            "\u001b[0;32m/usr/local/lib/python3.10/dist-packages/transformers/models/udop/modeling_udop.py\u001b[0m in \u001b[0;36mforward\u001b[0;34m(self, attention_mask, bbox)\u001b[0m\n\u001b[1;32m   1120\u001b[0m             \u001b[0mself\u001b[0m\u001b[0;34m.\u001b[0m\u001b[0mexpand\u001b[0m \u001b[0;34m=\u001b[0m \u001b[0;32mFalse\u001b[0m\u001b[0;34m\u001b[0m\u001b[0;34m\u001b[0m\u001b[0m\n\u001b[1;32m   1121\u001b[0m \u001b[0;34m\u001b[0m\u001b[0m\n\u001b[0;32m-> 1122\u001b[0;31m         \u001b[0mrp_bucket\u001b[0m \u001b[0;34m=\u001b[0m \u001b[0mself\u001b[0m\u001b[0;34m.\u001b[0m\u001b[0mget_bucket\u001b[0m\u001b[0;34m(\u001b[0m\u001b[0mattention_mask\u001b[0m\u001b[0;34m,\u001b[0m \u001b[0mbbox\u001b[0m\u001b[0;34m)\u001b[0m\u001b[0;34m\u001b[0m\u001b[0;34m\u001b[0m\u001b[0m\n\u001b[0m\u001b[1;32m   1123\u001b[0m \u001b[0;34m\u001b[0m\u001b[0m\n\u001b[1;32m   1124\u001b[0m         \u001b[0;32mif\u001b[0m \u001b[0mself\u001b[0m\u001b[0;34m.\u001b[0m\u001b[0mprefix_bucket\u001b[0m\u001b[0;34m:\u001b[0m\u001b[0;34m\u001b[0m\u001b[0;34m\u001b[0m\u001b[0m\n",
            "\u001b[0;32m/usr/local/lib/python3.10/dist-packages/transformers/models/udop/modeling_udop.py\u001b[0m in \u001b[0;36mget_bucket\u001b[0;34m(self, attention_mask, bbox)\u001b[0m\n\u001b[1;32m   1092\u001b[0m \u001b[0;34m\u001b[0m\u001b[0m\n\u001b[1;32m   1093\u001b[0m     \u001b[0;32mdef\u001b[0m \u001b[0mget_bucket\u001b[0m\u001b[0;34m(\u001b[0m\u001b[0mself\u001b[0m\u001b[0;34m,\u001b[0m \u001b[0mattention_mask\u001b[0m\u001b[0;34m:\u001b[0m \u001b[0mOptional\u001b[0m\u001b[0;34m[\u001b[0m\u001b[0mTensor\u001b[0m\u001b[0;34m]\u001b[0m \u001b[0;34m=\u001b[0m \u001b[0;32mNone\u001b[0m\u001b[0;34m,\u001b[0m \u001b[0mbbox\u001b[0m\u001b[0;34m:\u001b[0m \u001b[0mOptional\u001b[0m\u001b[0;34m[\u001b[0m\u001b[0mDict\u001b[0m\u001b[0;34m[\u001b[0m\u001b[0mstr\u001b[0m\u001b[0;34m,\u001b[0m \u001b[0mAny\u001b[0m\u001b[0;34m]\u001b[0m\u001b[0;34m]\u001b[0m \u001b[0;34m=\u001b[0m \u001b[0;32mNone\u001b[0m\u001b[0;34m)\u001b[0m \u001b[0;34m->\u001b[0m \u001b[0mTensor\u001b[0m\u001b[0;34m:\u001b[0m\u001b[0;34m\u001b[0m\u001b[0;34m\u001b[0m\u001b[0m\n\u001b[0;32m-> 1094\u001b[0;31m         \u001b[0mrelative_position\u001b[0m \u001b[0;34m=\u001b[0m \u001b[0mself\u001b[0m\u001b[0;34m.\u001b[0m\u001b[0mprepare_input\u001b[0m\u001b[0;34m(\u001b[0m\u001b[0mattention_mask\u001b[0m\u001b[0;34m,\u001b[0m \u001b[0mbbox\u001b[0m\u001b[0;34m)\u001b[0m\u001b[0;34m\u001b[0m\u001b[0;34m\u001b[0m\u001b[0m\n\u001b[0m\u001b[1;32m   1095\u001b[0m         rp_bucket: Tensor = get_relative_position_bucket(\n\u001b[1;32m   1096\u001b[0m             \u001b[0mrelative_position\u001b[0m\u001b[0;34m,\u001b[0m\u001b[0;34m\u001b[0m\u001b[0;34m\u001b[0m\u001b[0m\n",
            "\u001b[0;32m/usr/local/lib/python3.10/dist-packages/transformers/models/udop/modeling_udop.py\u001b[0m in \u001b[0;36mprepare_input\u001b[0;34m(self, attention_mask, bbox)\u001b[0m\n\u001b[1;32m   1172\u001b[0m             \u001b[0;32mraise\u001b[0m \u001b[0mValueError\u001b[0m\u001b[0;34m(\u001b[0m\u001b[0;34m\"Bbox is required for horizontal relative position bias\"\u001b[0m\u001b[0;34m)\u001b[0m\u001b[0;34m\u001b[0m\u001b[0;34m\u001b[0m\u001b[0m\n\u001b[1;32m   1173\u001b[0m         \u001b[0;31m# get x positions of left point of bbox\u001b[0m\u001b[0;34m\u001b[0m\u001b[0;34m\u001b[0m\u001b[0m\n\u001b[0;32m-> 1174\u001b[0;31m         \u001b[0mhorizontal_position\u001b[0m\u001b[0;34m:\u001b[0m \u001b[0mTensor\u001b[0m \u001b[0;34m=\u001b[0m \u001b[0mbbox\u001b[0m\u001b[0;34m[\u001b[0m\u001b[0;34m:\u001b[0m\u001b[0;34m,\u001b[0m \u001b[0;34m:\u001b[0m\u001b[0;34m,\u001b[0m \u001b[0;34m[\u001b[0m\u001b[0;36m0\u001b[0m\u001b[0;34m,\u001b[0m \u001b[0;36m2\u001b[0m\u001b[0;34m]\u001b[0m\u001b[0;34m]\u001b[0m\u001b[0;34m.\u001b[0m\u001b[0mmean\u001b[0m\u001b[0;34m(\u001b[0m\u001b[0mdim\u001b[0m\u001b[0;34m=\u001b[0m\u001b[0;34m-\u001b[0m\u001b[0;36m1\u001b[0m\u001b[0;34m)\u001b[0m\u001b[0;34m\u001b[0m\u001b[0;34m\u001b[0m\u001b[0m\n\u001b[0m\u001b[1;32m   1175\u001b[0m \u001b[0;34m\u001b[0m\u001b[0m\n\u001b[1;32m   1176\u001b[0m         \u001b[0;32mreturn\u001b[0m \u001b[0mself\u001b[0m\u001b[0;34m.\u001b[0m\u001b[0mget_relative_position\u001b[0m\u001b[0;34m(\u001b[0m\u001b[0mhorizontal_position\u001b[0m\u001b[0;34m)\u001b[0m\u001b[0;34m\u001b[0m\u001b[0;34m\u001b[0m\u001b[0m\n",
            "\u001b[0;31mRuntimeError\u001b[0m: mean(): could not infer output dtype. Input dtype must be either a floating point or complex dtype. Got: Long"
          ]
        }
      ]
    },
    {
      "cell_type": "markdown",
      "source": [
        "## Inference\n",
        "\n",
        "At inference time, it's recommended to leverage the generate method for autoregressive generation of text.\n",
        "\n",
        "Refer to [this blog post](https://huggingface.co/blog/how-to-generate) if you want to know all about the various ways of decoding text from Transformers."
      ],
      "metadata": {
        "id": "T9R_dwf8r_39"
      }
    },
    {
      "cell_type": "code",
      "source": [
        "# let's take an image from the original test set\n",
        "test_example = dataset[\"test\"][10]\n",
        "\n",
        "test_image = test_example[\"image\"]\n",
        "test_image"
      ],
      "metadata": {
        "id": "NXEcaTW8PmFZ",
        "colab": {
          "base_uri": "https://localhost:8080/",
          "height": 1000
        },
        "outputId": "e2c3d5ec-f78b-4fa7-92ff-32d940077f81"
      },
      "execution_count": 42,
      "outputs": [
        {
          "output_type": "execute_result",
          "data": {
            "text/plain": [
              "<PIL.TiffImagePlugin.TiffImageFile image mode=L size=777x1000>"
            ],
            "image/png": "[encoded data removed]"
          },
          "metadata": {},
          "execution_count": 42
        }
      ]
    },
    {
      "cell_type": "code",
      "source": [
        "# prepare the image for the model (OCR is applied by the processor)\n",
        "inputs = processor(test_image.convert(\"RGB\"), return_tensors=\"pt\").to(device)\n",
        "for k,v in inputs.items():\n",
        "  print(k,v.shape)"
      ],
      "metadata": {
        "colab": {
          "base_uri": "https://localhost:8080/"
        },
        "id": "BEHNsMmquMsv",
        "outputId": "df8661cd-83e1-428d-99ba-1066cb7419ea"
      },
      "execution_count": 43,
      "outputs": [
        {
          "output_type": "stream",
          "name": "stdout",
          "text": [
            "input_ids torch.Size([1, 246])\n",
            "attention_mask torch.Size([1, 246])\n",
            "bbox torch.Size([1, 246, 4])\n",
            "pixel_values torch.Size([1, 3, 224, 224])\n"
          ]
        }
      ]
    },
    {
      "cell_type": "code",
      "source": [
        "processor.batch_decode(inputs.input_ids)"
      ],
      "metadata": {
        "colab": {
          "base_uri": "https://localhost:8080/"
        },
        "id": "ii5N7lypuUWH",
        "outputId": "7138b0c3-9a53-461c-d98f-5d60891679ad"
      },
      "execution_count": 44,
      "outputs": [
        {
          "output_type": "execute_result",
          "data": {
            "text/plain": [
              "['14:40 SALCOM RABBIT SOFTURRE 33S 63746. POL Telefax Copy 1969-10-26. Ae SALCOM RABBIT SOFTWARE B.V. Meonthot 15 124 CP XoRTENHORF ‘the Netherlands 26, Okt. 1983 PHONE + 31-(0)35-62444 Ae, C TELEFAX: 31-(0)38-63746 t a 0. # Institut flr Diologische Forschung GmbH ARM: Herr pr. Ww. Gomm TBLERAKEs 09.49.2203. 303362 FROM___: Salcom RABBIT Software B.v. - Cor Ruger DATE. _+ 26. Oktober 1989 ‘TOTALS OF PAGES: 3 Schr gechrter Herr Gomm, anbei finden sie das Preisangebot Nr. 8910545. Mit freundlichen Grissen & ‘ ye : icon $na027 Sottnere B.<unk>. Cor Ruger Sales Represcntative OfL.bebbeor</s>']"
            ]
          },
          "metadata": {},
          "execution_count": 44
        }
      ]
    },
    {
      "cell_type": "code",
      "source": [
        "# autoregressive generation\n",
        "model.eval()\n",
        "generated_ids = model.generate(**inputs, max_new_tokens=10)\n",
        "generated_text = processor.batch_decode(generated_ids, skip_special_tokens=True)[0]\n",
        "print(generated_text)"
      ],
      "metadata": {
        "colab": {
          "base_uri": "https://localhost:8080/"
        },
        "id": "ebMXSyPmuZcx",
        "outputId": "1542bd4a-ec90-40a5-a3a1-93ab65be0687"
      },
      "execution_count": 45,
      "outputs": [
        {
          "output_type": "stream",
          "name": "stdout",
          "text": [
            "document image classification. form\n"
          ]
        }
      ]
    },
    {
      "cell_type": "markdown",
      "source": [
        "Let's compare that to the ground truth label:"
      ],
      "metadata": {
        "id": "MZiNRn0wvH8e"
      }
    },
    {
      "cell_type": "code",
      "source": [
        "id2label[test_example[\"label\"]]"
      ],
      "metadata": {
        "colab": {
          "base_uri": "https://localhost:8080/",
          "height": 35
        },
        "id": "dp9_clDlvEeX",
        "outputId": "6e037ee1-1bd3-4f40-d3d3-885035436b00"
      },
      "execution_count": 46,
      "outputs": [
        {
          "output_type": "execute_result",
          "data": {
            "text/plain": [
              "'form'"
            ],
            "application/vnd.google.colaboratory.intrinsic+json": {
              "type": "string"
            }
          },
          "metadata": {},
          "execution_count": 46
        }
      ]
    },
    {
      "cell_type": "code",
      "source": [],
      "metadata": {
        "id": "E6fRJJ81wDFY"
      },
      "execution_count": null,
      "outputs": []
    }
  ]
}